{
 "cells": [
  {
   "cell_type": "markdown",
   "metadata": {},
   "source": [
    "# Importing Necessary libraries"
   ]
  },
  {
   "cell_type": "code",
   "execution_count": 11,
   "metadata": {},
   "outputs": [],
   "source": [
    "import random\n",
    "import pandas as pd\n",
    "import numpy as np\n",
    "from datetime import datetime,timedelta\n",
    "random.seed(55)"
   ]
  },
  {
   "cell_type": "markdown",
   "metadata": {},
   "source": [
    "* Generating Data For CPU"
   ]
  },
  {
   "cell_type": "code",
   "execution_count": 12,
   "metadata": {},
   "outputs": [],
   "source": [
    "prod_id=range(2515,2973)\n",
    "start_date=datetime(2012,1,1)\n",
    "end_date=datetime(2020,1,1)\n",
    "\n",
    "data=[]\n",
    "for i in prod_id:\n",
    "    for month in pd.date_range(start=start_date,end=end_date,freq='M'):\n",
    "        month = month.replace(day=1)\n",
    "        random_num=random.randint(10,100)\n",
    "        data.append([i,month,random_num])\n",
    "\n",
    "df=pd.DataFrame(data,columns=['Prod_id','ds','y'])\n",
    "df = df.set_index('Prod_id', drop=True)\n",
    "df.to_csv('./DatasetsForDemandForecasting/CPU_train.csv')"
   ]
  },
  {
   "cell_type": "code",
   "execution_count": 13,
   "metadata": {},
   "outputs": [],
   "source": [
    "prod_id=range(2515,2973)\n",
    "start_date=datetime(2020,1,1)\n",
    "end_date=datetime(2023,1,1)\n",
    "\n",
    "data=[]\n",
    "for i in prod_id:\n",
    "    for month in pd.date_range(start=start_date,end=end_date,freq='M'):\n",
    "        month = month.replace(day=1)\n",
    "        random_num=random.randint(10,100)\n",
    "        data.append([i,month,random_num])\n",
    "\n",
    "df=pd.DataFrame(data,columns=['Prod_id','ds','y'])\n",
    "df = df.set_index('Prod_id', drop=True)\n",
    "df.to_csv('./DatasetsForDemandForecasting/CPU_test.csv')"
   ]
  },
  {
   "cell_type": "markdown",
   "metadata": {},
   "source": [
    "* Generating Data For GPU"
   ]
  },
  {
   "cell_type": "code",
   "execution_count": 14,
   "metadata": {},
   "outputs": [],
   "source": [
    "prod_id=range(0,2515)\n",
    "start_date=datetime(2020,1,1)\n",
    "end_date=datetime(2023,1,1)\n",
    "data=[]\n",
    "for i in prod_id:\n",
    "    for month in pd.date_range(start=start_date,end=end_date,freq='M'):\n",
    "        month = month.replace(day=1)\n",
    "        random_num=random.randint(10,100)\n",
    "        data.append([i,month,random_num])\n",
    "\n",
    "df=pd.DataFrame(data,columns=['Prod_id','ds','y'])\n",
    "df = df.set_index('Prod_id', drop=True)\n",
    "df.to_csv('./DatasetsForDemandForecasting/GPU_train.csv')\n"
   ]
  },
  {
   "cell_type": "code",
   "execution_count": 15,
   "metadata": {},
   "outputs": [],
   "source": [
    "prod_id=range(0,2515)\n",
    "start_date=datetime(2020,1,1)\n",
    "end_date=datetime(2023,1,1)\n",
    "data=[]\n",
    "for i in prod_id:\n",
    "    for month in pd.date_range(start=start_date,end=end_date,freq='M'):\n",
    "        month = month.replace(day=1)\n",
    "        random_num=random.randint(10,100)\n",
    "        data.append([i,month,random_num])\n",
    "\n",
    "df=pd.DataFrame(data,columns=['Prod_id','ds','y'])\n",
    "df = df.set_index('Prod_id', drop=True)\n",
    "df.to_csv('./DatasetsForDemandForecasting/GPU_test.csv')\n"
   ]
  },
  {
   "cell_type": "markdown",
   "metadata": {},
   "source": [
    "* Generating Data for MOBO"
   ]
  },
  {
   "cell_type": "code",
   "execution_count": 16,
   "metadata": {},
   "outputs": [],
   "source": [
    "prod_id=range(2973,5395)\n",
    "start_date=datetime(2012,1,1)\n",
    "end_date=datetime(2020,1,1)\n",
    "\n",
    "data=[]\n",
    "for i in prod_id:\n",
    "    for month in pd.date_range(start=start_date,end=end_date,freq='M'):\n",
    "        month = month.replace(day=1)\n",
    "        random_num=random.randint(10,100)\n",
    "        data.append([i,month,random_num])\n",
    "\n",
    "df=pd.DataFrame(data,columns=['Prod_id','ds','y'])\n",
    "df = df.set_index('Prod_id', drop=True)\n",
    "df.to_csv('./DatasetsForDemandForecasting/MOBO_train.csv')\n"
   ]
  },
  {
   "cell_type": "code",
   "execution_count": 17,
   "metadata": {},
   "outputs": [],
   "source": [
    "prod_id=range(2973,5395)\n",
    "start_date=datetime(2020,1,1)\n",
    "end_date=datetime(2023,1,1)\n",
    "\n",
    "data=[]\n",
    "for i in prod_id:\n",
    "    for month in pd.date_range(start=start_date,end=end_date,freq='M'):\n",
    "        month = month.replace(day=1)\n",
    "        random_num=random.randint(10,100)\n",
    "        data.append([i,month,random_num])\n",
    "\n",
    "df=pd.DataFrame(data,columns=['Prod_id','ds','y'])\n",
    "df = df.set_index('Prod_id', drop=True)\n",
    "df.to_csv('./DatasetsForDemandForecasting/MOBO_test.csv')\n"
   ]
  },
  {
   "cell_type": "markdown",
   "metadata": {},
   "source": [
    "* Generating Data for Storage"
   ]
  },
  {
   "cell_type": "code",
   "execution_count": 18,
   "metadata": {},
   "outputs": [],
   "source": [
    "prod_id=range(5395,7567)\n",
    "start_date=datetime(2012,1,1)\n",
    "end_date=datetime(2020,1,1)\n",
    "\n",
    "data=[]\n",
    "for i in prod_id:\n",
    "    for month in pd.date_range(start=start_date,end=end_date,freq='M'):\n",
    "        month = month.replace(day=1)\n",
    "        random_num=random.randint(10,100)\n",
    "        data.append([i,month,random_num])\n",
    "\n",
    "df=pd.DataFrame(data,columns=['Prod_id','ds','y'])\n",
    "df = df.set_index('Prod_id', drop=True)\n",
    "df.to_csv('./DatasetsForDemandForecasting/Storage_train.csv')\n"
   ]
  },
  {
   "cell_type": "code",
   "execution_count": 19,
   "metadata": {},
   "outputs": [],
   "source": [
    "prod_id=range(5395,7567)\n",
    "start_date=datetime(2020,1,1)\n",
    "end_date=datetime(2023,1,1)\n",
    "\n",
    "data=[]\n",
    "for i in prod_id:\n",
    "    for month in pd.date_range(start=start_date,end=end_date,freq='M'):\n",
    "        month = month.replace(day=1)\n",
    "        random_num=random.randint(10,100)\n",
    "        data.append([i,month,random_num])\n",
    "\n",
    "df=pd.DataFrame(data,columns=['Prod_id','ds','y'])\n",
    "df = df.set_index('Prod_id', drop=True)\n",
    "df.to_csv('./DatasetsForDemandForecasting/Storage_test.csv')\n"
   ]
  },
  {
   "cell_type": "markdown",
   "metadata": {},
   "source": [
    "* Generating Data for RAM "
   ]
  },
  {
   "cell_type": "code",
   "execution_count": 20,
   "metadata": {},
   "outputs": [],
   "source": [
    "prod_id=range(7567,9274)\n",
    "start_date=datetime(2012,1,1)\n",
    "end_date=datetime(2020,1,1)\n",
    "\n",
    "data=[]\n",
    "for i in prod_id:\n",
    "    for month in pd.date_range(start=start_date,end=end_date,freq='M'):\n",
    "        month = month.replace(day=1)\n",
    "        random_num=random.randint(10,100)\n",
    "        data.append([i,month,random_num])\n",
    "\n",
    "df=pd.DataFrame(data,columns=['Prod_id','ds','y'])\n",
    "df = df.set_index('Prod_id', drop=True)\n",
    "df.to_csv('./DatasetsForDemandForecasting/RAM_train.csv')\n"
   ]
  },
  {
   "cell_type": "code",
   "execution_count": 21,
   "metadata": {},
   "outputs": [],
   "source": [
    "prod_id=range(7567,9274)\n",
    "start_date=datetime(2020,1,1)\n",
    "end_date=datetime(2023,1,1)\n",
    "\n",
    "data=[]\n",
    "for i in prod_id:\n",
    "    for month in pd.date_range(start=start_date,end=end_date,freq='M'):\n",
    "        month = month.replace(day=1)\n",
    "        random_num=random.randint(10,100)\n",
    "        data.append([i,month,random_num])\n",
    "\n",
    "df=pd.DataFrame(data,columns=['Prod_id','ds','y'])\n",
    "df = df.set_index('Prod_id', drop=True)\n",
    "df.to_csv('./DatasetsForDemandForecasting/RAM_test.csv')\n"
   ]
  },
  {
   "cell_type": "markdown",
   "metadata": {},
   "source": [
    "* Generating Data For PSU\n"
   ]
  },
  {
   "cell_type": "code",
   "execution_count": 22,
   "metadata": {},
   "outputs": [],
   "source": [
    "prod_id=range(9274,11588)\n",
    "start_date=datetime(2012,1,1)\n",
    "end_date=datetime(2020,1,1)\n",
    "\n",
    "data=[]\n",
    "for i in prod_id:\n",
    "    for month in pd.date_range(start=start_date,end=end_date,freq='M'):\n",
    "        month = month.replace(day=1)\n",
    "        random_num=random.randint(10,100)\n",
    "        data.append([i,month,random_num])\n",
    "\n",
    "df=pd.DataFrame(data,columns=['Prod_id','ds','y'])\n",
    "df = df.set_index('Prod_id', drop=True)\n",
    "df.to_csv('./DatasetsForDemandForecasting/PSU_train.csv')\n"
   ]
  },
  {
   "cell_type": "code",
   "execution_count": 23,
   "metadata": {},
   "outputs": [],
   "source": [
    "prod_id=range(9274,11588)\n",
    "start_date=datetime(2020,1,1)\n",
    "end_date=datetime(2023,1,1)\n",
    "\n",
    "data=[]\n",
    "for i in prod_id:\n",
    "    for month in pd.date_range(start=start_date,end=end_date,freq='M'):\n",
    "        month = month.replace(day=1)\n",
    "        random_num=random.randint(10,100)\n",
    "        data.append([i,month,random_num])\n",
    "\n",
    "df=pd.DataFrame(data,columns=['Prod_id','ds','y'])\n",
    "df = df.set_index('Prod_id', drop=True)\n",
    "df.to_csv('./DatasetsForDemandForecasting/PSU_test.csv')\n"
   ]
  },
  {
   "cell_type": "markdown",
   "metadata": {},
   "source": [
    "* Generating Data For Case\n"
   ]
  },
  {
   "cell_type": "code",
   "execution_count": 24,
   "metadata": {},
   "outputs": [],
   "source": [
    "prod_id=range(11588,13159)\n",
    "start_date=datetime(2012,1,1)\n",
    "end_date=datetime(2020,1,1)\n",
    "\n",
    "data=[]\n",
    "for i in prod_id:\n",
    "    for month in pd.date_range(start=start_date,end=end_date,freq='M'):\n",
    "        month = month.replace(day=1)\n",
    "        random_num=random.randint(10,100)\n",
    "        data.append([i,month,random_num])\n",
    "\n",
    "df=pd.DataFrame(data,columns=['Prod_id','ds','y'])\n",
    "df = df.set_index('Prod_id', drop=True)\n",
    "df.to_csv('./DatasetsForDemandForecasting/Case_train.csv')\n"
   ]
  },
  {
   "cell_type": "code",
   "execution_count": 25,
   "metadata": {},
   "outputs": [],
   "source": [
    "prod_id=range(11588,13159)\n",
    "start_date=datetime(2020,1,1)\n",
    "end_date=datetime(2023,1,1)\n",
    "\n",
    "data=[]\n",
    "for i in prod_id:\n",
    "    for month in pd.date_range(start=start_date,end=end_date,freq='M'):\n",
    "        month = month.replace(day=1)\n",
    "        random_num=random.randint(10,100)\n",
    "        data.append([i,month,random_num])\n",
    "\n",
    "df=pd.DataFrame(data,columns=['Prod_id','ds','y'])\n",
    "df = df.set_index('Prod_id', drop=True)\n",
    "df.to_csv('./DatasetsForDemandForecasting/Case_test.csv')\n"
   ]
  },
  {
   "cell_type": "markdown",
   "metadata": {},
   "source": [
    "Test Dates CSV generation "
   ]
  },
  {
   "cell_type": "code",
   "execution_count": 46,
   "metadata": {},
   "outputs": [],
   "source": [
    "test_dates=pd.DataFrame()\n",
    "test_dates['ds']=pd.date_range(start=datetime(2020,1,1),end=datetime(2030,6,6),freq='M')\n",
    "# Set all days to 1\n",
    "test_dates['ds'] = test_dates['ds'].dt.to_period('M').dt.to_timestamp()\n",
    "test_dates=test_dates.set_index('ds',drop=True)\n",
    "test_dates.to_csv('./DatasetsForDemandForecasting/test_dates.csv')\n"
   ]
  }
 ],
 "metadata": {
  "kernelspec": {
   "display_name": "Python 3",
   "language": "python",
   "name": "python3"
  },
  "language_info": {
   "codemirror_mode": {
    "name": "ipython",
    "version": 3
   },
   "file_extension": ".py",
   "mimetype": "text/x-python",
   "name": "python",
   "nbconvert_exporter": "python",
   "pygments_lexer": "ipython3",
   "version": "3.12.0"
  }
 },
 "nbformat": 4,
 "nbformat_minor": 2
}
